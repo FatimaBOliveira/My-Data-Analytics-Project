{
 "cells": [
  {
   "cell_type": "markdown",
   "metadata": {},
   "source": [
    "# Palmer Penguins\n",
    "***\n",
    "\n",
    "This notebook contains my analysis of Palmer Penguins dataset, and this is available on Allison Horst, PhD, [GitHub](https://allisonhorst.github.io/palmerpenguins/). This [study](https://archive.ics.uci.edu/dataset/690/palmer+penguins-3) contains observations of some penguins species in the islands of Palmer Archipelago. The [data](https://allisonhorst.github.io/palmerpenguins/#about-the-data) was collected by Dr. Kristen Gorman.\n",
    "\n",
    "![Penguins](https://allisonhorst.github.io/palmerpenguins/reference/figures/lter_penguins.png) *Artwork by @allison_horst*\n",
    "\n",
    "![Penguins](https://upload.wikimedia.org/wikipedia/commons/thumb/2/24/Antarctica_relief_location_map.jpg/240px-Antarctica_relief_location_map.jpg)\n",
    "\n",
    "*Palmer Penguins Station by Wikipedia*"
   ]
  },
  {
   "cell_type": "markdown",
   "metadata": {},
   "source": [
    "## Imports\n",
    "***\n",
    "In order to analyse data from this study, we can use the Python Package [Pandas](https://pandas.pydata.org/docs/getting_started/overview.html), which allow us to import data from csv, json and other types of files and then we can manipulate the data in many ways to check the elements inside it into Jupyter notebooks. With Pandas we can also apply the [DataFrame structure](https://realpython.com/pandas-dataframe/#introducing-the-pandas-dataframe) that will analyse the data into a two-dimensional representation, with rows and columns."
   ]
  },
  {
   "cell_type": "code",
   "execution_count": 1,
   "metadata": {},
   "outputs": [],
   "source": [
    "# Import Pandas to analyse the data set.\n",
    "import pandas as pd"
   ]
  },
  {
   "cell_type": "markdown",
   "metadata": {},
   "source": [
    "## Load Data\n",
    "***\n",
    "To load the Palmer Penguins dataset from a URL, we use a direct link of the [raw data](https://raw.githubusercontent.com/mwaskom/seaborn-data/master/penguins.csv) addressed by the very famous software engineer and neuroscientist [Michael Waskom](https://mwaskom.github.io/), PhD, where many other [data sets](https://github.com/mwaskom/seaborn-data/tree/master) can be found as well. The Pandas function to read the file is [pd.read_csv(\"URL of csv file\")](https://www.datacamp.com/tutorial/pandas-read-csv)."
   ]
  },
  {
   "cell_type": "code",
   "execution_count": 2,
   "metadata": {},
   "outputs": [],
   "source": [
    "# Load the penguins data set.\n",
    "df = pd.read_csv(\"https://raw.githubusercontent.com/mwaskom/seaborn-data/master/penguins.csv\")"
   ]
  },
  {
   "cell_type": "markdown",
   "metadata": {},
   "source": [
    "## Inspect Data\n",
    "***\n",
    "The machine loaded the data and we can show it as following:"
   ]
  },
  {
   "cell_type": "code",
   "execution_count": 3,
   "metadata": {},
   "outputs": [
    {
     "data": {
      "text/html": [
       "<div>\n",
       "<style scoped>\n",
       "    .dataframe tbody tr th:only-of-type {\n",
       "        vertical-align: middle;\n",
       "    }\n",
       "\n",
       "    .dataframe tbody tr th {\n",
       "        vertical-align: top;\n",
       "    }\n",
       "\n",
       "    .dataframe thead th {\n",
       "        text-align: right;\n",
       "    }\n",
       "</style>\n",
       "<table border=\"1\" class=\"dataframe\">\n",
       "  <thead>\n",
       "    <tr style=\"text-align: right;\">\n",
       "      <th></th>\n",
       "      <th>species</th>\n",
       "      <th>island</th>\n",
       "      <th>bill_length_mm</th>\n",
       "      <th>bill_depth_mm</th>\n",
       "      <th>flipper_length_mm</th>\n",
       "      <th>body_mass_g</th>\n",
       "      <th>sex</th>\n",
       "    </tr>\n",
       "  </thead>\n",
       "  <tbody>\n",
       "    <tr>\n",
       "      <th>0</th>\n",
       "      <td>Adelie</td>\n",
       "      <td>Torgersen</td>\n",
       "      <td>39.1</td>\n",
       "      <td>18.7</td>\n",
       "      <td>181.0</td>\n",
       "      <td>3750.0</td>\n",
       "      <td>MALE</td>\n",
       "    </tr>\n",
       "    <tr>\n",
       "      <th>1</th>\n",
       "      <td>Adelie</td>\n",
       "      <td>Torgersen</td>\n",
       "      <td>39.5</td>\n",
       "      <td>17.4</td>\n",
       "      <td>186.0</td>\n",
       "      <td>3800.0</td>\n",
       "      <td>FEMALE</td>\n",
       "    </tr>\n",
       "    <tr>\n",
       "      <th>2</th>\n",
       "      <td>Adelie</td>\n",
       "      <td>Torgersen</td>\n",
       "      <td>40.3</td>\n",
       "      <td>18.0</td>\n",
       "      <td>195.0</td>\n",
       "      <td>3250.0</td>\n",
       "      <td>FEMALE</td>\n",
       "    </tr>\n",
       "    <tr>\n",
       "      <th>3</th>\n",
       "      <td>Adelie</td>\n",
       "      <td>Torgersen</td>\n",
       "      <td>NaN</td>\n",
       "      <td>NaN</td>\n",
       "      <td>NaN</td>\n",
       "      <td>NaN</td>\n",
       "      <td>NaN</td>\n",
       "    </tr>\n",
       "    <tr>\n",
       "      <th>4</th>\n",
       "      <td>Adelie</td>\n",
       "      <td>Torgersen</td>\n",
       "      <td>36.7</td>\n",
       "      <td>19.3</td>\n",
       "      <td>193.0</td>\n",
       "      <td>3450.0</td>\n",
       "      <td>FEMALE</td>\n",
       "    </tr>\n",
       "    <tr>\n",
       "      <th>...</th>\n",
       "      <td>...</td>\n",
       "      <td>...</td>\n",
       "      <td>...</td>\n",
       "      <td>...</td>\n",
       "      <td>...</td>\n",
       "      <td>...</td>\n",
       "      <td>...</td>\n",
       "    </tr>\n",
       "    <tr>\n",
       "      <th>339</th>\n",
       "      <td>Gentoo</td>\n",
       "      <td>Biscoe</td>\n",
       "      <td>NaN</td>\n",
       "      <td>NaN</td>\n",
       "      <td>NaN</td>\n",
       "      <td>NaN</td>\n",
       "      <td>NaN</td>\n",
       "    </tr>\n",
       "    <tr>\n",
       "      <th>340</th>\n",
       "      <td>Gentoo</td>\n",
       "      <td>Biscoe</td>\n",
       "      <td>46.8</td>\n",
       "      <td>14.3</td>\n",
       "      <td>215.0</td>\n",
       "      <td>4850.0</td>\n",
       "      <td>FEMALE</td>\n",
       "    </tr>\n",
       "    <tr>\n",
       "      <th>341</th>\n",
       "      <td>Gentoo</td>\n",
       "      <td>Biscoe</td>\n",
       "      <td>50.4</td>\n",
       "      <td>15.7</td>\n",
       "      <td>222.0</td>\n",
       "      <td>5750.0</td>\n",
       "      <td>MALE</td>\n",
       "    </tr>\n",
       "    <tr>\n",
       "      <th>342</th>\n",
       "      <td>Gentoo</td>\n",
       "      <td>Biscoe</td>\n",
       "      <td>45.2</td>\n",
       "      <td>14.8</td>\n",
       "      <td>212.0</td>\n",
       "      <td>5200.0</td>\n",
       "      <td>FEMALE</td>\n",
       "    </tr>\n",
       "    <tr>\n",
       "      <th>343</th>\n",
       "      <td>Gentoo</td>\n",
       "      <td>Biscoe</td>\n",
       "      <td>49.9</td>\n",
       "      <td>16.1</td>\n",
       "      <td>213.0</td>\n",
       "      <td>5400.0</td>\n",
       "      <td>MALE</td>\n",
       "    </tr>\n",
       "  </tbody>\n",
       "</table>\n",
       "<p>344 rows × 7 columns</p>\n",
       "</div>"
      ],
      "text/plain": [
       "    species     island  bill_length_mm  bill_depth_mm  flipper_length_mm  \\\n",
       "0    Adelie  Torgersen            39.1           18.7              181.0   \n",
       "1    Adelie  Torgersen            39.5           17.4              186.0   \n",
       "2    Adelie  Torgersen            40.3           18.0              195.0   \n",
       "3    Adelie  Torgersen             NaN            NaN                NaN   \n",
       "4    Adelie  Torgersen            36.7           19.3              193.0   \n",
       "..      ...        ...             ...            ...                ...   \n",
       "339  Gentoo     Biscoe             NaN            NaN                NaN   \n",
       "340  Gentoo     Biscoe            46.8           14.3              215.0   \n",
       "341  Gentoo     Biscoe            50.4           15.7              222.0   \n",
       "342  Gentoo     Biscoe            45.2           14.8              212.0   \n",
       "343  Gentoo     Biscoe            49.9           16.1              213.0   \n",
       "\n",
       "     body_mass_g     sex  \n",
       "0         3750.0    MALE  \n",
       "1         3800.0  FEMALE  \n",
       "2         3250.0  FEMALE  \n",
       "3            NaN     NaN  \n",
       "4         3450.0  FEMALE  \n",
       "..           ...     ...  \n",
       "339          NaN     NaN  \n",
       "340       4850.0  FEMALE  \n",
       "341       5750.0    MALE  \n",
       "342       5200.0  FEMALE  \n",
       "343       5400.0    MALE  \n",
       "\n",
       "[344 rows x 7 columns]"
      ]
     },
     "execution_count": 3,
     "metadata": {},
     "output_type": "execute_result"
    }
   ],
   "source": [
    "# Check the data.\n",
    "df"
   ]
  },
  {
   "cell_type": "markdown",
   "metadata": {},
   "source": [
    "When checking the data, Pandas shows some of the the first and the last samples values. With the information obtained about the penguins, we can identify the following variables: species; island; bill length (mm); bill depth (mm); flipper length (mm); body mass (g); and the sex.\n",
    "Now we can use many of the Pandas functionality, like checking any row of the data with [df.iloc[number of the row to be inspected]](https://www.w3schools.com/python/pandas/ref_df_iloc.asp)."
   ]
  },
  {
   "cell_type": "code",
   "execution_count": 4,
   "metadata": {},
   "outputs": [
    {
     "data": {
      "text/plain": [
       "species                 Adelie\n",
       "island               Torgersen\n",
       "bill_length_mm            39.1\n",
       "bill_depth_mm             18.7\n",
       "flipper_length_mm        181.0\n",
       "body_mass_g             3750.0\n",
       "sex                       MALE\n",
       "Name: 0, dtype: object"
      ]
     },
     "execution_count": 4,
     "metadata": {},
     "output_type": "execute_result"
    }
   ],
   "source": [
    "# First row.\n",
    "df.iloc[0]"
   ]
  },
  {
   "cell_type": "markdown",
   "metadata": {},
   "source": [
    "We can check any column with [df[\"variable name\"]](https://www.geeksforgeeks.org/how-to-select-single-column-of-a-pandas-dataframe/)."
   ]
  },
  {
   "cell_type": "code",
   "execution_count": 5,
   "metadata": {},
   "outputs": [
    {
     "data": {
      "text/plain": [
       "0        MALE\n",
       "1      FEMALE\n",
       "2      FEMALE\n",
       "3         NaN\n",
       "4      FEMALE\n",
       "        ...  \n",
       "339       NaN\n",
       "340    FEMALE\n",
       "341      MALE\n",
       "342    FEMALE\n",
       "343      MALE\n",
       "Name: sex, Length: 344, dtype: object"
      ]
     },
     "execution_count": 5,
     "metadata": {},
     "output_type": "execute_result"
    }
   ],
   "source": [
    "# Sex of penguins.\n",
    "df[\"sex\"]"
   ]
  },
  {
   "cell_type": "markdown",
   "metadata": {},
   "source": [
    "To show the different answers inside a variable and count them, we can use [df[\"column name\"].value_counts()](https://realpython.com/pandas-python-explore-dataset/#exploring-your-dataset)."
   ]
  },
  {
   "cell_type": "code",
   "execution_count": 6,
   "metadata": {},
   "outputs": [
    {
     "data": {
      "text/plain": [
       "sex\n",
       "MALE      168\n",
       "FEMALE    165\n",
       "Name: count, dtype: int64"
      ]
     },
     "execution_count": 6,
     "metadata": {},
     "output_type": "execute_result"
    }
   ],
   "source": [
    "# Numbers of penguins of each sex.\n",
    "df[\"sex\"].value_counts()"
   ]
  },
  {
   "cell_type": "markdown",
   "metadata": {},
   "source": [
    "To have an overview of the data set, we can use the [df.describe()](https://www.w3schools.com/python/pandas/ref_df_describe.asp), and this function will do sample count, the average answer (mean), the deviation (std), the minimum value register, the percentage of the values that are around 25%, 50% and 75% below or equal to the number presented, and finally the maximum value found in the samples."
   ]
  },
  {
   "cell_type": "code",
   "execution_count": 7,
   "metadata": {},
   "outputs": [
    {
     "data": {
      "text/html": [
       "<div>\n",
       "<style scoped>\n",
       "    .dataframe tbody tr th:only-of-type {\n",
       "        vertical-align: middle;\n",
       "    }\n",
       "\n",
       "    .dataframe tbody tr th {\n",
       "        vertical-align: top;\n",
       "    }\n",
       "\n",
       "    .dataframe thead th {\n",
       "        text-align: right;\n",
       "    }\n",
       "</style>\n",
       "<table border=\"1\" class=\"dataframe\">\n",
       "  <thead>\n",
       "    <tr style=\"text-align: right;\">\n",
       "      <th></th>\n",
       "      <th>bill_length_mm</th>\n",
       "      <th>bill_depth_mm</th>\n",
       "      <th>flipper_length_mm</th>\n",
       "      <th>body_mass_g</th>\n",
       "    </tr>\n",
       "  </thead>\n",
       "  <tbody>\n",
       "    <tr>\n",
       "      <th>count</th>\n",
       "      <td>342.000000</td>\n",
       "      <td>342.000000</td>\n",
       "      <td>342.000000</td>\n",
       "      <td>342.000000</td>\n",
       "    </tr>\n",
       "    <tr>\n",
       "      <th>mean</th>\n",
       "      <td>43.921930</td>\n",
       "      <td>17.151170</td>\n",
       "      <td>200.915205</td>\n",
       "      <td>4201.754386</td>\n",
       "    </tr>\n",
       "    <tr>\n",
       "      <th>std</th>\n",
       "      <td>5.459584</td>\n",
       "      <td>1.974793</td>\n",
       "      <td>14.061714</td>\n",
       "      <td>801.954536</td>\n",
       "    </tr>\n",
       "    <tr>\n",
       "      <th>min</th>\n",
       "      <td>32.100000</td>\n",
       "      <td>13.100000</td>\n",
       "      <td>172.000000</td>\n",
       "      <td>2700.000000</td>\n",
       "    </tr>\n",
       "    <tr>\n",
       "      <th>25%</th>\n",
       "      <td>39.225000</td>\n",
       "      <td>15.600000</td>\n",
       "      <td>190.000000</td>\n",
       "      <td>3550.000000</td>\n",
       "    </tr>\n",
       "    <tr>\n",
       "      <th>50%</th>\n",
       "      <td>44.450000</td>\n",
       "      <td>17.300000</td>\n",
       "      <td>197.000000</td>\n",
       "      <td>4050.000000</td>\n",
       "    </tr>\n",
       "    <tr>\n",
       "      <th>75%</th>\n",
       "      <td>48.500000</td>\n",
       "      <td>18.700000</td>\n",
       "      <td>213.000000</td>\n",
       "      <td>4750.000000</td>\n",
       "    </tr>\n",
       "    <tr>\n",
       "      <th>max</th>\n",
       "      <td>59.600000</td>\n",
       "      <td>21.500000</td>\n",
       "      <td>231.000000</td>\n",
       "      <td>6300.000000</td>\n",
       "    </tr>\n",
       "  </tbody>\n",
       "</table>\n",
       "</div>"
      ],
      "text/plain": [
       "       bill_length_mm  bill_depth_mm  flipper_length_mm  body_mass_g\n",
       "count      342.000000     342.000000         342.000000   342.000000\n",
       "mean        43.921930      17.151170         200.915205  4201.754386\n",
       "std          5.459584       1.974793          14.061714   801.954536\n",
       "min         32.100000      13.100000         172.000000  2700.000000\n",
       "25%         39.225000      15.600000         190.000000  3550.000000\n",
       "50%         44.450000      17.300000         197.000000  4050.000000\n",
       "75%         48.500000      18.700000         213.000000  4750.000000\n",
       "max         59.600000      21.500000         231.000000  6300.000000"
      ]
     },
     "execution_count": 7,
     "metadata": {},
     "output_type": "execute_result"
    }
   ],
   "source": [
    "# Describe the data set.\n",
    "df.describe()"
   ]
  },
  {
   "cell_type": "markdown",
   "metadata": {},
   "source": [
    "To understand better the meaning of each one, I will give a brief explanation, focusing in the attribute bill length (mm). The count is the total sample counts, so 342. The mean is the average value of all samples, 43.92193 (mm). The [standard deviation](https://en.wikipedia.org/wiki/Standard_deviation) measures how far most values are from the mean, in this case is 5.459584 (mm), which means most of the values are 5.459584 (mm) or closer to the mean value of 43.92193 (mm), so most of them are between mean - std and mean + std. Therefore, the smaller is the deviation number, the closer are the samples are from the mean. After that it shows the minimum value recorded in the data set, 32.1 (mm).Then the percentage 25% shows that 25% of the values are 39.225 (mm) or below that. Then 50% are values between 39.225(mm) exclusive and 44.45(mm) inclusive. Finally 75% are the numbers between 44.45 (mm) exclusive and 48.5 (mm) inclusive. Then the maximum bill length observed in the samples is 59.6 (mm)."
   ]
  },
  {
   "cell_type": "markdown",
   "metadata": {},
   "source": [
    "## Model the Variables\n",
    "***\n",
    "Pandas can help us to choose which variables can be use to model, in an easy, presentable way. For this, we need first to check the types of each variable with [df.dtypes](https://realpython.com/pandas-dataframe/#data-types), as this will be determinant in the path opted to model them."
   ]
  },
  {
   "cell_type": "code",
   "execution_count": 8,
   "metadata": {},
   "outputs": [
    {
     "data": {
      "text/plain": [
       "species               object\n",
       "island                object\n",
       "bill_length_mm       float64\n",
       "bill_depth_mm        float64\n",
       "flipper_length_mm    float64\n",
       "body_mass_g          float64\n",
       "sex                   object\n",
       "dtype: object"
      ]
     },
     "execution_count": 8,
     "metadata": {},
     "output_type": "execute_result"
    }
   ],
   "source": [
    "# Inspect types.\n",
    "df.dtypes"
   ]
  },
  {
   "cell_type": "markdown",
   "metadata": {},
   "source": [
    "Inside this data set, we only have object and float [types of variables](https://pbpython.com/pandas_dtypes.html). Now to model each variable, we can use the libraries Numpy and MatplotLib. [Numpy](https://numpy.org/doc/stable/user/whatisnumpy.html) helps to represent data in an mathematical way with multidimensional arrays. While [Matplolib](https://matplotlib.org/) helps to plot data in bars, histograms, scatter, and other types of plots. \n",
    "\n",
    "The variables types presented as object, such as species, island and sex, they can be well represented with bar chart, because they don't have many variations. Per example, inside species we only have 3 answers, Adelie, Gentoo and Chinstrap, so there's an exact number of each species. Then we have float variables bill length (mm), bill depth (mm), flipper length (mm) and body mass (g). Floats can't be plotted in a bar, because the result would be very disorganized, because each sample can have a different answer, so when plotted in bar chart, they will mix the bars, one in top of another, not allowing a clean visualization. For plotting floats adequately, we can use histograms because each column have a window estimate of values that can be put together."
   ]
  },
  {
   "cell_type": "markdown",
   "metadata": {},
   "source": [
    "### Bar chart\n",
    "***\n",
    "Now that we know the variables that can be presented with bar charts, we need to import:\n",
    "* [Numpy](https://numpy.org/doc/stable/user/absolute_beginners.html) to work with arrays in a easy and fast way;\n",
    "* [Matplotlib](https://matplotlib.org/stable/users/explain/quick_start.html) to visualize the variables with images."
   ]
  },
  {
   "cell_type": "code",
   "execution_count": 9,
   "metadata": {},
   "outputs": [],
   "source": [
    "# Library for numerical arrays.\n",
    "import numpy as np\n",
    "# Library to plot data.\n",
    "import matplotlib.pyplot as plt"
   ]
  },
  {
   "cell_type": "markdown",
   "metadata": {},
   "source": [
    "For the bar chart, we can use the object type of variables: species, island and sex. First, we need to get the arrays and then we can plot them. So as example, we need to use Numpy function to check every value inside species and give the counts of each of them with [np.unique(column to check, return_counts=True)](https://numpy.org/doc/stable/reference/generated/numpy.unique.html)"
   ]
  },
  {
   "cell_type": "code",
   "execution_count": 10,
   "metadata": {},
   "outputs": [
    {
     "data": {
      "text/plain": [
       "(array(['Adelie', 'Chinstrap', 'Gentoo'], dtype=object),\n",
       " array([152,  68, 124], dtype=int64))"
      ]
     },
     "execution_count": 10,
     "metadata": {},
     "output_type": "execute_result"
    }
   ],
   "source": [
    "# Get the counts.\n",
    "species = df[\"species\"]\n",
    "values, counts = np.unique(species, return_counts=True)\n",
    "\n",
    "# Show.\n",
    "values, counts"
   ]
  },
  {
   "cell_type": "markdown",
   "metadata": {},
   "source": [
    "As we have now stored the arrays with Numpy, we can use Matplotlib to use those arrays to plot them. For bar chart, we use [plt.bar(values, counts)](https://matplotlib.org/stable/api/_as_gen/matplotlib.pyplot.bar.html) function."
   ]
  },
  {
   "cell_type": "code",
   "execution_count": 11,
   "metadata": {},
   "outputs": [
    {
     "data": {
      "text/plain": [
       "<BarContainer object of 3 artists>"
      ]
     },
     "execution_count": 11,
     "metadata": {},
     "output_type": "execute_result"
    },
    {
     "data": {
      "image/png": "[encoded data removed]",
      "text/plain": [
       "<Figure size 640x480 with 1 Axes>"
      ]
     },
     "metadata": {},
     "output_type": "display_data"
    }
   ],
   "source": [
    "# Plot the bar chart.\n",
    "plt.bar(values, counts)"
   ]
  },
  {
   "cell_type": "markdown",
   "metadata": {},
   "source": [
    "### Histogram\n",
    "***\n",
    "Now for the Histogram, we can use any variables that are floats: bill length (mm), bill depth (mm), flipper length (mm) and body mass (g).\n",
    "We need to use Numpy and Matplotlib to plot them as well."
   ]
  },
  {
   "cell_type": "code",
   "execution_count": 12,
   "metadata": {},
   "outputs": [
    {
     "data": {
      "text/plain": [
       "(array([172., 174., 176., 178., 179., 180., 181., 182., 183., 184., 185.,\n",
       "        186., 187., 188., 189., 190., 191., 192., 193., 194., 195., 196.,\n",
       "        197., 198., 199., 200., 201., 202., 203., 205., 206., 207., 208.,\n",
       "        209., 210., 211., 212., 213., 214., 215., 216., 217., 218., 219.,\n",
       "        220., 221., 222., 223., 224., 225., 226., 228., 229., 230., 231.,\n",
       "         nan]),\n",
       " array([ 1,  1,  1,  4,  1,  5,  7,  3,  2,  7,  9,  7, 16,  6,  7, 22, 13,\n",
       "         7, 15,  5, 17, 10, 10,  8,  6,  4,  6,  4,  5,  3,  1,  2,  8,  5,\n",
       "        14,  2,  7,  6,  6, 12,  8,  6,  5,  5,  8,  5,  6,  2,  3,  4,  1,\n",
       "         4,  2,  7,  1,  2], dtype=int64))"
      ]
     },
     "execution_count": 12,
     "metadata": {},
     "output_type": "execute_result"
    }
   ],
   "source": [
    "# Get the counts.\n",
    "flipper_length_mm = df[\"flipper_length_mm\"]\n",
    "values, counts = np.unique(flipper_length_mm, return_counts=True) # Same code we used above to get the arrays.\n",
    "\n",
    "# Show.\n",
    "values, counts"
   ]
  },
  {
   "cell_type": "markdown",
   "metadata": {},
   "source": [
    "Now to plot the Histogram, we use the [plt.hist(variable)](https://matplotlib.org/stable/api/_as_gen/matplotlib.pyplot.hist.html). There's many features we can use to personalize the histogram, and [edge color](https://python-graph-gallery.com/basic-histogram-in-matplotlib/) is one of them."
   ]
  },
  {
   "cell_type": "code",
   "execution_count": 13,
   "metadata": {},
   "outputs": [
    {
     "data": {
      "text/plain": [
       "(array([ 3., 22., 52., 79., 44., 15., 42., 42., 28., 15.]),\n",
       " array([172. , 177.9, 183.8, 189.7, 195.6, 201.5, 207.4, 213.3, 219.2,\n",
       "        225.1, 231. ]),\n",
       " <BarContainer object of 10 artists>)"
      ]
     },
     "execution_count": 13,
     "metadata": {},
     "output_type": "execute_result"
    },
    {
     "data": {
      "image/png": "[encoded data removed]",
      "text/plain": [
       "<Figure size 640x480 with 1 Axes>"
      ]
     },
     "metadata": {},
     "output_type": "display_data"
    }
   ],
   "source": [
    "# Plot histogram.\n",
    "plt.hist(flipper_length_mm, edgecolor = \"black\") # Edge in black color."
   ]
  },
  {
   "cell_type": "markdown",
   "metadata": {},
   "source": [
    "### Correlation\n",
    "***\n",
    "One of the most interesting things to do with a data set is to see the correlation between variables. As [Real Python](https://realpython.com/numpy-scipy-pandas-correlation-python/#correlation) mention:\n",
    "\n",
    "\"Statistics and data science are often concerned about the relationships between two or more variables (or features) of a dataset. Each data point in the dataset is an observation, and the features are the properties or attributes of those observations.\".\n",
    "\n",
    "This will allow to see if there's any relation between variables, to expand our knowledge about the data set, and in this case, maybe create an explanation about the attributes of the penguins.\n",
    "\n",
    "I choose the bill depth and bill length as variables to evaluate the correlation between them.\n",
    "\n",
    "We can study the correlation between variables through best fit line and with Pearson correlation coefficient. \n",
    "\n",
    "To get started we can use function [variable.to_numpy()](https://pandas.pydata.org/pandas-docs/version/1.5/reference/api/pandas.DataFrame.to_numpy.html) so we store the arrays."
   ]
  },
  {
   "cell_type": "code",
   "execution_count": 14,
   "metadata": {},
   "outputs": [
    {
     "data": {
      "text/plain": [
       "array([18.7, 17.4, 18. ,  nan, 19.3, 20.6, 17.8, 19.6, 18.1, 20.2, 17.1,\n",
       "       17.3, 17.6, 21.2, 21.1, 17.8, 19. , 20.7, 18.4, 21.5, 18.3, 18.7,\n",
       "       19.2, 18.1, 17.2, 18.9, 18.6, 17.9, 18.6, 18.9, 16.7, 18.1, 17.8,\n",
       "       18.9, 17. , 21.1, 20. , 18.5, 19.3, 19.1, 18. , 18.4, 18.5, 19.7,\n",
       "       16.9, 18.8, 19. , 18.9, 17.9, 21.2, 17.7, 18.9, 17.9, 19.5, 18.1,\n",
       "       18.6, 17.5, 18.8, 16.6, 19.1, 16.9, 21.1, 17. , 18.2, 17.1, 18. ,\n",
       "       16.2, 19.1, 16.6, 19.4, 19. , 18.4, 17.2, 18.9, 17.5, 18.5, 16.8,\n",
       "       19.4, 16.1, 19.1, 17.2, 17.6, 18.8, 19.4, 17.8, 20.3, 19.5, 18.6,\n",
       "       19.2, 18.8, 18. , 18.1, 17.1, 18.1, 17.3, 18.9, 18.6, 18.5, 16.1,\n",
       "       18.5, 17.9, 20. , 16. , 20. , 18.6, 18.9, 17.2, 20. , 17. , 19. ,\n",
       "       16.5, 20.3, 17.7, 19.5, 20.7, 18.3, 17. , 20.5, 17. , 18.6, 17.2,\n",
       "       19.8, 17. , 18.5, 15.9, 19. , 17.6, 18.3, 17.1, 18. , 17.9, 19.2,\n",
       "       18.5, 18.5, 17.6, 17.5, 17.5, 20.1, 16.5, 17.9, 17.1, 17.2, 15.5,\n",
       "       17. , 16.8, 18.7, 18.6, 18.4, 17.8, 18.1, 17.1, 18.5, 17.9, 19.5,\n",
       "       19.2, 18.7, 19.8, 17.8, 18.2, 18.2, 18.9, 19.9, 17.8, 20.3, 17.3,\n",
       "       18.1, 17.1, 19.6, 20. , 17.8, 18.6, 18.2, 17.3, 17.5, 16.6, 19.4,\n",
       "       17.9, 19. , 18.4, 19. , 17.8, 20. , 16.6, 20.8, 16.7, 18.8, 18.6,\n",
       "       16.8, 18.3, 20.7, 16.6, 19.9, 19.5, 17.5, 19.1, 17. , 17.9, 18.5,\n",
       "       17.9, 19.6, 18.7, 17.3, 16.4, 19. , 17.3, 19.7, 17.3, 18.8, 16.6,\n",
       "       19.9, 18.8, 19.4, 19.5, 16.5, 17. , 19.8, 18.1, 18.2, 19. , 18.7,\n",
       "       13.2, 16.3, 14.1, 15.2, 14.5, 13.5, 14.6, 15.3, 13.4, 15.4, 13.7,\n",
       "       16.1, 13.7, 14.6, 14.6, 15.7, 13.5, 15.2, 14.5, 15.1, 14.3, 14.5,\n",
       "       14.5, 15.8, 13.1, 15.1, 14.3, 15. , 14.3, 15.3, 15.3, 14.2, 14.5,\n",
       "       17. , 14.8, 16.3, 13.7, 17.3, 13.6, 15.7, 13.7, 16. , 13.7, 15. ,\n",
       "       15.9, 13.9, 13.9, 15.9, 13.3, 15.8, 14.2, 14.1, 14.4, 15. , 14.4,\n",
       "       15.4, 13.9, 15. , 14.5, 15.3, 13.8, 14.9, 13.9, 15.7, 14.2, 16.8,\n",
       "       14.4, 16.2, 14.2, 15. , 15. , 15.6, 15.6, 14.8, 15. , 16. , 14.2,\n",
       "       16.3, 13.8, 16.4, 14.5, 15.6, 14.6, 15.9, 13.8, 17.3, 14.4, 14.2,\n",
       "       14. , 17. , 15. , 17.1, 14.5, 16.1, 14.7, 15.7, 15.8, 14.6, 14.4,\n",
       "       16.5, 15. , 17. , 15.5, 15. , 13.8, 16.1, 14.7, 15.8, 14. , 15.1,\n",
       "       15.2, 15.9, 15.2, 16.3, 14.1, 16. , 15.7, 16.2, 13.7,  nan, 14.3,\n",
       "       15.7, 14.8, 16.1])"
      ]
     },
     "execution_count": 14,
     "metadata": {},
     "output_type": "execute_result"
    }
   ],
   "source": [
    "# Get the numpy array of bill depth.\n",
    "bdep = df[\"bill_depth_mm\"].to_numpy()\n",
    "\n",
    "# Show.\n",
    "bdep"
   ]
  },
  {
   "cell_type": "code",
   "execution_count": 15,
   "metadata": {},
   "outputs": [
    {
     "data": {
      "text/plain": [
       "array([39.1, 39.5, 40.3,  nan, 36.7, 39.3, 38.9, 39.2, 34.1, 42. , 37.8,\n",
       "       37.8, 41.1, 38.6, 34.6, 36.6, 38.7, 42.5, 34.4, 46. , 37.8, 37.7,\n",
       "       35.9, 38.2, 38.8, 35.3, 40.6, 40.5, 37.9, 40.5, 39.5, 37.2, 39.5,\n",
       "       40.9, 36.4, 39.2, 38.8, 42.2, 37.6, 39.8, 36.5, 40.8, 36. , 44.1,\n",
       "       37. , 39.6, 41.1, 37.5, 36. , 42.3, 39.6, 40.1, 35. , 42. , 34.5,\n",
       "       41.4, 39. , 40.6, 36.5, 37.6, 35.7, 41.3, 37.6, 41.1, 36.4, 41.6,\n",
       "       35.5, 41.1, 35.9, 41.8, 33.5, 39.7, 39.6, 45.8, 35.5, 42.8, 40.9,\n",
       "       37.2, 36.2, 42.1, 34.6, 42.9, 36.7, 35.1, 37.3, 41.3, 36.3, 36.9,\n",
       "       38.3, 38.9, 35.7, 41.1, 34. , 39.6, 36.2, 40.8, 38.1, 40.3, 33.1,\n",
       "       43.2, 35. , 41. , 37.7, 37.8, 37.9, 39.7, 38.6, 38.2, 38.1, 43.2,\n",
       "       38.1, 45.6, 39.7, 42.2, 39.6, 42.7, 38.6, 37.3, 35.7, 41.1, 36.2,\n",
       "       37.7, 40.2, 41.4, 35.2, 40.6, 38.8, 41.5, 39. , 44.1, 38.5, 43.1,\n",
       "       36.8, 37.5, 38.1, 41.1, 35.6, 40.2, 37. , 39.7, 40.2, 40.6, 32.1,\n",
       "       40.7, 37.3, 39. , 39.2, 36.6, 36. , 37.8, 36. , 41.5, 46.5, 50. ,\n",
       "       51.3, 45.4, 52.7, 45.2, 46.1, 51.3, 46. , 51.3, 46.6, 51.7, 47. ,\n",
       "       52. , 45.9, 50.5, 50.3, 58. , 46.4, 49.2, 42.4, 48.5, 43.2, 50.6,\n",
       "       46.7, 52. , 50.5, 49.5, 46.4, 52.8, 40.9, 54.2, 42.5, 51. , 49.7,\n",
       "       47.5, 47.6, 52. , 46.9, 53.5, 49. , 46.2, 50.9, 45.5, 50.9, 50.8,\n",
       "       50.1, 49. , 51.5, 49.8, 48.1, 51.4, 45.7, 50.7, 42.5, 52.2, 45.2,\n",
       "       49.3, 50.2, 45.6, 51.9, 46.8, 45.7, 55.8, 43.5, 49.6, 50.8, 50.2,\n",
       "       46.1, 50. , 48.7, 50. , 47.6, 46.5, 45.4, 46.7, 43.3, 46.8, 40.9,\n",
       "       49. , 45.5, 48.4, 45.8, 49.3, 42. , 49.2, 46.2, 48.7, 50.2, 45.1,\n",
       "       46.5, 46.3, 42.9, 46.1, 44.5, 47.8, 48.2, 50. , 47.3, 42.8, 45.1,\n",
       "       59.6, 49.1, 48.4, 42.6, 44.4, 44. , 48.7, 42.7, 49.6, 45.3, 49.6,\n",
       "       50.5, 43.6, 45.5, 50.5, 44.9, 45.2, 46.6, 48.5, 45.1, 50.1, 46.5,\n",
       "       45. , 43.8, 45.5, 43.2, 50.4, 45.3, 46.2, 45.7, 54.3, 45.8, 49.8,\n",
       "       46.2, 49.5, 43.5, 50.7, 47.7, 46.4, 48.2, 46.5, 46.4, 48.6, 47.5,\n",
       "       51.1, 45.2, 45.2, 49.1, 52.5, 47.4, 50. , 44.9, 50.8, 43.4, 51.3,\n",
       "       47.5, 52.1, 47.5, 52.2, 45.5, 49.5, 44.5, 50.8, 49.4, 46.9, 48.4,\n",
       "       51.1, 48.5, 55.9, 47.2, 49.1, 47.3, 46.8, 41.7, 53.4, 43.3, 48.1,\n",
       "       50.5, 49.8, 43.5, 51.5, 46.2, 55.1, 44.5, 48.8, 47.2,  nan, 46.8,\n",
       "       50.4, 45.2, 49.9])"
      ]
     },
     "execution_count": 15,
     "metadata": {},
     "output_type": "execute_result"
    }
   ],
   "source": [
    "# Get the numpy array of bill length.\n",
    "blen = df[\"bill_length_mm\"].to_numpy()\n",
    "\n",
    "# Show.\n",
    "blen"
   ]
  },
  {
   "cell_type": "markdown",
   "metadata": {},
   "source": [
    "Now that we have the arrays of both, we can plot them with axes in a single figure with [fig,ax = plt.subplots()](https://matplotlib.org/stable/api/_as_gen/matplotlib.pyplot.subplots.html).\n",
    "To define the axes, we need to [ax.plot(first array, second array)](https://matplotlib.org/stable/api/_as_gen/matplotlib.axes.Axes.plot.html). The first will show up in the x axis and second in the y axis.\n",
    "Then we can customize the plot with the following:\n",
    "- labels, [ax.set_xlabel(\"name of the axis\") and ax.set_ylabel(\"name of the axis\")](https://matplotlib.org/stable/api/axes_api.html#axis-labels-title-and-legend);\n",
    "- title, [ax.set_title(\"name of the plot\")](https://matplotlib.org/stable/api/axes_api.html#axis-labels-title-and-legend);\n",
    "- set the limits for each axis, per example x with [ax.set_xlim(start, end)](https://matplotlib.org/stable/api/axes_api.html#axis-limits-and-direction).\n",
    "\n",
    "This customisation will show the plot in a good, presentable way."
   ]
  },
  {
   "cell_type": "code",
   "execution_count": 16,
   "metadata": {},
   "outputs": [
    {
     "data": {
      "text/plain": [
       "(25.0, 65.0)"
      ]
     },
     "execution_count": 16,
     "metadata": {},
     "output_type": "execute_result"
    },
    {
     "data": {
      "image/png": "[encoded data removed]",
      "text/plain": [
       "<Figure size 640x480 with 1 Axes>"
      ]
     },
     "metadata": {},
     "output_type": "display_data"
    }
   ],
   "source": [
    "# Create a new figure and set of axes. \n",
    "fig, ax = plt.subplots()\n",
    "\n",
    "# Simple plot.\n",
    "ax.plot(bdep, blen, \"x\") # \"x\" is to plot values as x in the figure.\n",
    "\n",
    "# Axes labels.\n",
    "ax.set_xlabel(\"Bill Depth (mm)\")\n",
    "ax.set_ylabel(\"Bill Length (mm)\")\n",
    "\n",
    "# Title.\n",
    "ax.set_title(\"Bill depth and length of the Penguins at Palmer Station\")\n",
    "\n",
    "# X limits.\n",
    "ax.set_xlim(12,23)\n",
    "\n",
    "# Y limits.\n",
    "ax.set_ylim(25, 65)"
   ]
  },
  {
   "cell_type": "markdown",
   "metadata": {},
   "source": [
    "#### Add a Best Fit Line\n",
    "***\n",
    "The visualization of correlation can be done when we present a best fit line in the plot. We apply the following [equation](https://scriptverse.dev/tutorials/python-matplotlib-plot-straight-line.html) represented by René Descartes:\n",
    "\n",
    "$ y = mx + c$ \n",
    "\n",
    "*To generate this equation, GitHub documentation shows how to write [math](https://docs.github.com/en/get-started/writing-on-github/working-with-advanced-formatting/writing-mathematical-expressions) in markdown.*\n",
    "\n",
    "There is some NaN/blank values in the samples, and we need to consider only the real values of the dataset. For that we can use the [np.isfinite(variable)](https://numpy.org/doc/stable/reference/generated/numpy.isfinite.html) function. If we try to do a best fit line without excluding the NaN values, the machine will give an error. After that we can use the [np.polyfit(x_variable, y_variable, deg)](https://numpy.org/doc/stable/reference/generated/numpy.polyfit.html) so we can calculate the m and c of the equation."
   ]
  },
  {
   "cell_type": "code",
   "execution_count": 17,
   "metadata": {},
   "outputs": [
    {
     "data": {
      "text/plain": [
       "(-0.6498355630183159, 55.0673697719197)"
      ]
     },
     "execution_count": 17,
     "metadata": {},
     "output_type": "execute_result"
    }
   ],
   "source": [
    "# Calculate m and c.\n",
    "inx = np.isfinite(bdep)\n",
    "iny = np.isfinite(blen)\n",
    "\n",
    "m, c = np.polyfit(bdep[inx], blen[iny], 1)\n",
    "\n",
    "# Show m and c.\n",
    "m, c"
   ]
  },
  {
   "cell_type": "markdown",
   "metadata": {},
   "source": [
    "After that, we can use [np.linspace(start, stop)](https://realpython.com/np-linspace-numpy/) to return evenly or non evenly spaced numbers in a specific interval to draw the best fit line in the x axis. After that we can use the equation to calculate the y."
   ]
  },
  {
   "cell_type": "code",
   "execution_count": 23,
   "metadata": {},
   "outputs": [],
   "source": [
    "# X Values for best fit line.\n",
    "bf_x = np.linspace(12, 23)\n",
    "\n",
    "# Y values for best fit line, as y = mx + c.\n",
    "bf_y = m * bf_x + c"
   ]
  },
  {
   "cell_type": "code",
   "execution_count": 24,
   "metadata": {},
   "outputs": [
    {
     "data": {
      "text/plain": [
       "(25.0, 65.0)"
      ]
     },
     "execution_count": 24,
     "metadata": {},
     "output_type": "execute_result"
    },
    {
     "data": {
      "image/png": "[encoded data removed]",
      "text/plain": [
       "<Figure size 640x480 with 1 Axes>"
      ]
     },
     "metadata": {},
     "output_type": "display_data"
    }
   ],
   "source": [
    "# Create a new figure and set of axes. \n",
    "fig, ax = plt.subplots()\n",
    "\n",
    "# Plot them.\n",
    "ax.plot(bdep, blen, \"x\")\n",
    "\n",
    "# Plot with straight line, based on equation y = mx + c, considering m and c as calculated above.\n",
    "ax.plot(bf_x, bf_y, \"r-\") #  \"r-\" is to draw line in red.\n",
    "\n",
    "# Axes labels.\n",
    "ax.set_xlabel(\"Bill Depth (mm)\")\n",
    "ax.set_ylabel(\"Bill Lenght (mm)\")\n",
    "\n",
    "# Title.\n",
    "ax.set_title(\"Best fit line between bill depth and length\")\n",
    "\n",
    "# X limits.\n",
    "ax.set_xlim(12, 23)\n",
    "\n",
    "# Y limits.\n",
    "ax.set_ylim(25, 65)"
   ]
  },
  {
   "cell_type": "markdown",
   "metadata": {},
   "source": [
    "#### Pearson Correlation Coefficient\n",
    "***\n",
    "There's another way to show the correlation of variables. Pearson defined the equation for the correlation coefficients, and [Wikipedia](https://en.wikipedia.org/wiki/Pearson_correlation_coefficient) shows it as following:\n",
    "\n",
    "$r_{xy} =\\frac{\\sum_{i=1}^{n}{(x_i-\\bar{x})(y_i-\\bar{y})}}{\\sqrt{\\sum_{i=1}^{n}(x_i-\\bar{x})^2}\\sqrt{\\sum_{i=1}^{n}(y_i-\\bar{y})^2}}$\n",
    "\n",
    "To calculate the coefficient with Numpy, we can use directly [np.corrcoef(x_variable, y_variable)](https://numpy.org/doc/stable/reference/generated/numpy.corrcoef.html)."
   ]
  },
  {
   "cell_type": "code",
   "execution_count": 20,
   "metadata": {},
   "outputs": [
    {
     "data": {
      "text/plain": [
       "array([[ 1.        , -0.23505287],\n",
       "       [-0.23505287,  1.        ]])"
      ]
     },
     "execution_count": 20,
     "metadata": {},
     "output_type": "execute_result"
    }
   ],
   "source": [
    "# Pearson correlation coefficient.\n",
    "np.corrcoef(bdep[idx], blen[idx2]) # will show correlation for both, and with themselves."
   ]
  },
  {
   "cell_type": "markdown",
   "metadata": {},
   "source": [
    "#### Results\n",
    "*** \n",
    " The [coefficient](https://statistics.laerd.com/statistical-guides/pearson-correlation-coefficient-statistical-guide.php) will vary between -1 and 1. Results close to 1 or -1 shows strong correlation, close to 0 it means weak relation, and if it's equal to 0, it means there's no correlation. The correlation obtained was around -0.235, which means the correlation is very weak between the two variables, and because it's negative, it shows that bill length slightly decreases while bill depth increases. This result matches the results obtained in the best fit line, where many of the values are far away from the best fit line, which means there's no strong relation between the variables, and also the line in going down as we move in the x axis, as represented in negative number in the coefficient. We can conclude that there's no strong association about those two variables, so it's hard to predict the bill length knowing the value of bill depth and vice versa."
   ]
  },
  {
   "cell_type": "markdown",
   "metadata": {},
   "source": [
    "#### Comparison to original study\n",
    "***\n",
    "The original study can be found in [Allison Horst GitHub](https://allisonhorst.github.io/palmerpenguins/articles/intro.html). The results in the website regarding correlation are:\n",
    "\n",
    "<img src=\"https://allisonhorst.github.io/palmerpenguins/articles/figs/penguin-ggpairs.png \" width=\"900px\" height=\"500px\" />\n",
    "\n",
    "*Image taken from the link above and resized following the Jupyter notebook documentation [regarding images and figures](https://jupyterbook.org/en/stable/content/figures.html#raw-html-images).*"
   ]
  },
  {
   "cell_type": "markdown",
   "metadata": {},
   "source": [
    "Analysing the results of bill depth and length, the correlation in the study is the same as I presented, -0.235, but it also shows extra information about correlation between those variables, where they consider each species. When added this 3rd variable, \"species\", the correlation shows more interesting results. The correlation of bill depth and bill length is stronger when it's considered each species individually, specially the Chinstrap and Gentoo species that have 0.654 and 0.643 respectively. So That proves that adding a variable in the correlation can give more information about the samples, but because it was requested in this assignment to compare only two variables in the data set, the results are limited, indicating that this 2 variables are not really correlated when in reality this is denied when the species is added, showing that bill depth usually increases when bill length increases. "
   ]
  },
  {
   "cell_type": "markdown",
   "metadata": {},
   "source": [
    "***\n",
    "## END"
   ]
  }
 ],
 "metadata": {
  "kernelspec": {
   "display_name": "base",
   "language": "python",
   "name": "python3"
  },
  "language_info": {
   "codemirror_mode": {
    "name": "ipython",
    "version": 3
   },
   "file_extension": ".py",
   "mimetype": "text/x-python",
   "name": "python",
   "nbconvert_exporter": "python",
   "pygments_lexer": "ipython3",
   "version": "3.11.5"
  }
 },
 "nbformat": 4,
 "nbformat_minor": 2
}
